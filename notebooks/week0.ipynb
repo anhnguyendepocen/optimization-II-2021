{
 "cells": [
  {
   "cell_type": "markdown",
   "metadata": {},
   "source": [
    "[![Open in Colab](https://colab.research.google.com/assets/colab-badge.svg)](https://colab.research.google.com/github/RikVoorhaar/optimization-II-2021/blob/master/notebooks/week0.ipynb)"
   ]
  },
  {
   "cell_type": "markdown",
   "metadata": {},
   "source": [
    "# Week 0\n",
    "\n",
    "Throughout this course we will be using Jupyter notebooks. Please read this page to familiarize yourself with them.\n",
    "\n",
    "## Jupyter notebooks\n",
    "\n",
    "Jupyter is a useful platform for writing and excecuting code interactively in Python. Jupyter also works with other languages, notably Julia and R. (In fact Jupyter is short for Julia-Python-R). \n",
    "\n",
    "With Jupyter notebooks you can write and excecute code piece by piece, and you can also mix code with rich text. The rich text uses Markdown as markup language, and has full support for $\\LaTeX$ to write equations. For example, this entire page is itself a Jupyter notebook!"
   ]
  },
  {
   "cell_type": "markdown",
   "metadata": {},
   "source": [
    "## Google Colab\n",
    "\n",
    "You can run and edit Jupyter notebooks from your browser without any installation using [Google Colab](https://colab.research.google.com/). You can also click the button `Open in Colab` at the top of this page to open this page itself as a notebook. On Colab all the Python packages you will need will already be installed. The notebooks all run on a server, so it doesn't matter how powerful your computer is. After editing a notebook the most convenient way to save it is by saving it onto Google Drive. If you do not want to do this, you can also download / upload the notebook as a `.ipynb` file."
   ]
  },
  {
   "cell_type": "markdown",
   "metadata": {},
   "source": [
    "## Local usage\n",
    "\n",
    "You can skip this section if you just want to use Jupyter from Colab.\n",
    "\n",
    "If you want to run Jupyter notebooks on your own computer, you first need to install Python and Jupyter. The easiest way to do this is by downloading [Anaconda](\n",
    "https://www.anaconda.com/products/individual#Downloads). Anaconda is a Python distribution that already has a large amount of useful packages preinstalled. \n",
    "\n",
    "After installing Anaconda you can launch Jupyter as an application. You can also use Anaconda to download and manage packages using a graphical user interface. \n",
    "\n",
    "Alternatively, Anaconda can be used from the command line. If you want to do this, then after installing Anaconda, make sure it is properly added to `$PATH`. The easiest way to do this is to run the command\n",
    "```\n",
    "conda init\n",
    "```\n",
    "On OSX and Linux this command should work. On Windows make sure to run this command from the `Anaconda Prompt` application. \n",
    "\n",
    "Then you can launch Jupyter by typing\n",
    "```\n",
    "jupter notebook\n",
    "```\n",
    "or \n",
    "```\n",
    "jupyter lab\n",
    "```\n",
    "(Jupyter lab is a slightly nicer interface, but you might have to install it first)\n",
    "\n",
    "Note that when you launch Jupyter from a certain folder, it will only have access to that folder and all it's subfolders. To use it in a different folder, first `cd` to the right folder from command line."
   ]
  },
  {
   "cell_type": "markdown",
   "metadata": {},
   "source": [
    "## Introduction to Jupyter, Python and numpy\n",
    "\n",
    "A Jupyter notebook consists of 'cells'. There are three different types of cells: code, markdown, and raw (which is not as important). This is a markdown cell, and it is used to display rich text.\n",
    "\n",
    "Below is a code cell, which contains Python code. You can excecute code cells by highlighting it and pressing Shift+Enter or Ctrl+Enter, or by pressing the play icon (▶️) in the user interface. By default the result of the last line of code is always displayed."
   ]
  },
  {
   "cell_type": "code",
   "execution_count": 1,
   "metadata": {},
   "outputs": [
    {
     "data": {
      "text/plain": [
       "5"
      ]
     },
     "execution_count": 1,
     "metadata": {},
     "output_type": "execute_result"
    }
   ],
   "source": [
    "x = 2\n",
    "y = 3\n",
    "\n",
    "# Computes x-y but it doesn't show the results since it’s not the last line of this cell\n",
    "x-y \n",
    "\n",
    "# Displays the result of x+y (i.e. '5')\n",
    "x+y"
   ]
  },
  {
   "cell_type": "markdown",
   "metadata": {},
   "source": [
    "If we do not want the output of the last line of code to be displayed for some reason, we can end the line with a semicolon (;). For example, the following line does not have any output."
   ]
  },
  {
   "cell_type": "code",
   "execution_count": 2,
   "metadata": {},
   "outputs": [],
   "source": [
    "2+3;"
   ]
  },
  {
   "cell_type": "markdown",
   "metadata": {},
   "source": [
    "All the variables initialized in a code cell are stored, so any subsequent cell has access to them:"
   ]
  },
  {
   "cell_type": "code",
   "execution_count": 3,
   "metadata": {},
   "outputs": [
    {
     "data": {
      "text/plain": [
       "13"
      ]
     },
     "execution_count": 3,
     "metadata": {},
     "output_type": "execute_result"
    }
   ],
   "source": [
    "x**2+y**2"
   ]
  },
  {
   "cell_type": "markdown",
   "metadata": {},
   "source": [
    "The same is true for functions. We can excecute the cell below to define the function `f`."
   ]
  },
  {
   "cell_type": "code",
   "execution_count": 4,
   "metadata": {},
   "outputs": [],
   "source": [
    "def f(x):\n",
    "    return x**2"
   ]
  },
  {
   "cell_type": "markdown",
   "metadata": {},
   "source": [
    "Now we can use it in another cell, using the stored value of `x` from before."
   ]
  },
  {
   "cell_type": "code",
   "execution_count": 5,
   "metadata": {},
   "outputs": [
    {
     "data": {
      "text/plain": [
       "4"
      ]
     },
     "execution_count": 5,
     "metadata": {},
     "output_type": "execute_result"
    }
   ],
   "source": [
    "f(x)"
   ]
  },
  {
   "cell_type": "markdown",
   "metadata": {},
   "source": [
    "We can also use Python for plotting using the package `matplotlib.pyplot`. First we'll need to import the package, but after that we can use it in any code cell. \n",
    "Below we plot $y=x^2$ using the values of $x$: $\\{0,1,2,3,4,5,6,7,8,9\\}$."
   ]
  },
  {
   "cell_type": "code",
   "execution_count": 6,
   "metadata": {},
   "outputs": [
    {
     "data": {
      "image/png": "[encoded data removed]",
      "text/plain": [
       "<Figure size 432x288 with 1 Axes>"
      ]
     },
     "metadata": {
      "needs_background": "light"
     },
     "output_type": "display_data"
    }
   ],
   "source": [
    "import matplotlib.pyplot as plt\n",
    "\n",
    "y = [x**2 for x in range(10)]\n",
    "plt.plot(y);"
   ]
  },
  {
   "cell_type": "markdown",
   "metadata": {},
   "source": [
    "The expression\n",
    "```python\n",
    "y = [x**2 for x in range(10)]\n",
    "```\n",
    "is an example of Python list comprehension. It is essentially mimicking mathematical set-builder notation:\n",
    "\n",
    "$$\n",
    "y = \\{x^2 \\mid x\\in (0,\\dots,9)\\}\n",
    "$$\n",
    "\n",
    "An equivalent way to write the same thing would be\n",
    "```python\n",
    "y = []\n",
    "for x in range(10):\n",
    "    y.append(x**2)\n",
    "```\n",
    "\n",
    "We can add titles and axis labels to the plot, as well as change it's size like this:"
   ]
  },
  {
   "cell_type": "code",
   "execution_count": 7,
   "metadata": {},
   "outputs": [
    {
     "data": {
      "image/png": "[encoded data removed]",
      "text/plain": [
       "<Figure size 360x288 with 1 Axes>"
      ]
     },
     "metadata": {
      "needs_background": "light"
     },
     "output_type": "display_data"
    }
   ],
   "source": [
    "plt.figure(figsize=(5,4))\n",
    "plt.title(\"Plot of $y=x^2$\")\n",
    "plt.xlabel('Value of $x$')\n",
    "plt.ylabel('Value of y $y$')\n",
    "\n",
    "y = [x**2 for x in range(10)]\n",
    "plt.plot(y);"
   ]
  },
  {
   "cell_type": "markdown",
   "metadata": {},
   "source": [
    "Note that using `range` we can only create sequences of integers. In general, when we're working with arrays we do not want to use the Python standard library, but instead we will use `numpy`. This is a very widely used library for numerics in Python. \n",
    "\n",
    "A lot of functions in `numpy` have similar names to equivalent functions in Matlab, so if you're used to Matlab the transition shouldn't be difficult. The biggest difference is that the indices of Matlab arrays start with 1, but in Python they start with 0. \n",
    "\n",
    "For example, below we create an array with 10 000 values between -5 and 5."
   ]
  },
  {
   "cell_type": "code",
   "execution_count": 8,
   "metadata": {},
   "outputs": [
    {
     "data": {
      "text/plain": [
       "array([-5.       , -4.9989999, -4.9979998, ...,  4.9979998,  4.9989999,\n",
       "        5.       ])"
      ]
     },
     "execution_count": 8,
     "metadata": {},
     "output_type": "execute_result"
    }
   ],
   "source": [
    "import numpy as np\n",
    "\n",
    "x = np.linspace(-5,5,10000)\n",
    "x"
   ]
  },
  {
   "cell_type": "markdown",
   "metadata": {},
   "source": [
    "Now `x` is a numpy array. Applying functions to arrays is easy. For example suppose we want to compute\n",
    "\n",
    "$$y = \\exp(-x^2/2)/\\sqrt{2\\pi}$$\n",
    "\n",
    "for all these values of `x`, and then plot the result, we can do:"
   ]
  },
  {
   "cell_type": "code",
   "execution_count": 9,
   "metadata": {},
   "outputs": [
    {
     "data": {
      "image/png": "[encoded data removed]",
      "text/plain": [
       "<Figure size 432x288 with 1 Axes>"
      ]
     },
     "metadata": {
      "needs_background": "light"
     },
     "output_type": "display_data"
    }
   ],
   "source": [
    "y = np.exp(-x**2/2)/np.sqrt(2*np.pi)\n",
    "\n",
    "plt.plot(x, y);"
   ]
  },
  {
   "cell_type": "markdown",
   "metadata": {},
   "source": [
    "Numpy has very good documentation, which you can find [right here](https://numpy.org/doc/1.20/) \n",
    "\n",
    "In general for homework exercises where you will need to write code, we will tell you which functions you might need to use. Therefore you don't need to worry if you don't (yet) know how to do something in Python."
   ]
  },
  {
   "cell_type": "markdown",
   "metadata": {},
   "source": [
    "## CVXPY\n",
    "\n",
    "This is a class on convex optimization, so we will also be using the convex optimization package `CVXPY`. On Colab this package is already installed, but if you're running Jupyter on your own computer you can install it using `pip` by running the following command in the command line:\n",
    "```\n",
    "pip install cvxpy\n",
    "```\n",
    "\n",
    "Below is an excellent example taken from the documentation of CVXPY on how to use it to solve a simple problem. Here we create a random $m\\times n$ matrix `A`, and a random vector `b` of size $m$. We then want to solve the problem:\n",
    "\n",
    "$$\n",
    "    \\min_{x\\in \\mathcal C} \\|Ax-b\\|^2\n",
    "$$\n",
    "\n",
    "where $\\mathcal C\\subset \\mathbb{R}^n$ is the set of constraints \n",
    "\n",
    "$$\n",
    "    \\mathcal C = \\{(x_1,\\dots,x_n)\\mid 0\\leq x_i\\leq 1\\, \\forall i\\}\n",
    "$$\n",
    "\n",
    "we use $m=30,\\,n=20$."
   ]
  },
  {
   "cell_type": "code",
   "execution_count": 10,
   "metadata": {},
   "outputs": [
    {
     "name": "stdout",
     "output_type": "stream",
     "text": [
      "[-1.79109253e-19  2.85112420e-02  2.79973443e-19  3.37658751e-20\n",
      " -2.72802659e-19  1.49285011e-01 -9.97212062e-20  8.35373892e-20\n",
      "  2.46718649e-01  5.78224144e-01 -4.03739462e-19  1.01242860e-03\n",
      " -9.28486200e-20  2.26767464e-01 -1.58813677e-19 -8.97232308e-20\n",
      " -1.22145726e-19 -1.51509432e-19  1.12060673e-19 -3.48318630e-19]\n",
      "[ 2.50938945  0.          2.78354615  1.79425782 13.08579183  0.\n",
      "  0.73716363  3.35344995  0.          0.          8.93825054  0.\n",
      "  7.02955161  0.          4.71068649  3.18873635  2.06090107 10.08166738\n",
      "  3.0481157   8.53268239]\n"
     ]
    }
   ],
   "source": [
    "import cvxpy as cp\n",
    "import numpy as np\n",
    "\n",
    "# Problem data.\n",
    "m = 30\n",
    "n = 20\n",
    "np.random.seed(1)\n",
    "A = np.random.randn(m, n)\n",
    "b = np.random.randn(m)\n",
    "\n",
    "# Construct the problem.\n",
    "x = cp.Variable(n)\n",
    "objective = cp.Minimize(cp.sum_squares(A@x - b))\n",
    "constraints = [0 <= x, x <= 1]\n",
    "prob = cp.Problem(objective, constraints)\n",
    "\n",
    "# The optimal objective value is returned by `prob.solve()`.\n",
    "result = prob.solve()\n",
    "# The optimal value for x is stored in `x.value`.\n",
    "print(x.value)\n",
    "# The optimal Lagrange multiplier for a constraint is stored in\n",
    "# `constraint.dual_value`.\n",
    "print(constraints[0].dual_value)"
   ]
  },
  {
   "cell_type": "markdown",
   "metadata": {},
   "source": [
    "## Important tip: restart your runtime\n",
    "\n",
    "Restart the Jupyter kernel from time to time. On Colab click 'Runtime > Restart runtime'. Sometimes you might accidentally be using a variable you defined earlier, but then removed the code for this variable. This may give unexpected results, so to make sure your code is good execute it again after restarting the runtime. \n",
    "\n",
    "Before handing in any homework make sure to restart the runtime and excecute all the cells (Colab: 'Runtime > Restart and run all'). Make sure the output of all the cells is as expected, and that the entire notebook runs without any errors."
   ]
  }
 ],
 "metadata": {
  "kernelspec": {
   "display_name": "Python 3",
   "language": "python",
   "name": "python3"
  },
  "language_info": {
   "codemirror_mode": {
    "name": "ipython",
    "version": 3
   },
   "file_extension": ".py",
   "mimetype": "text/x-python",
   "name": "python",
   "nbconvert_exporter": "python",
   "pygments_lexer": "ipython3",
   "version": "3.8.6"
  }
 },
 "nbformat": 4,
 "nbformat_minor": 4
}
